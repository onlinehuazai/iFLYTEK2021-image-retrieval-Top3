{
 "cells": [
  {
   "cell_type": "code",
   "execution_count": null,
   "metadata": {},
   "outputs": [],
   "source": [
    "from facenet_pytorch import MTCNN\n",
    "\n",
    "\n",
    "mtcnn = MTCNN(select_largest =True)\n",
    "\n",
    "\n",
    "def Cut_image(path):\n",
    "    img = Image.open(path)\n",
    "    # If required, create a face detection pipeline using MTCNN:\n",
    "    boxes, probs, points = mtcnn.detect(img, landmarks=True)\n",
    "    if boxes is not None:\n",
    "        img = img.crop((0,boxes[0][3],img.size[0],img.size[1])) \n",
    "        img.save(path)\n",
    "    print('保存成功')"
   ]
  },
  {
   "cell_type": "code",
   "execution_count": null,
   "metadata": {},
   "outputs": [],
   "source": [
    "import glob\n",
    "from PIL import Image\n",
    "train_path = glob.glob('data/train/*')\n",
    "for path in train_path:\n",
    "    Cut_image(path)"
   ]
  },
  {
   "cell_type": "code",
   "execution_count": null,
   "metadata": {},
   "outputs": [],
   "source": [
    "test_path = glob.glob('data/test/*')\n",
    "for path in test_path:\n",
    "    Cut_image(path)"
   ]
  }
 ],
 "metadata": {
  "kernelspec": {
   "display_name": "Python 3",
   "language": "python",
   "name": "python3"
  },
  "language_info": {
   "codemirror_mode": {
    "name": "ipython",
    "version": 3
   },
   "file_extension": ".py",
   "mimetype": "text/x-python",
   "name": "python",
   "nbconvert_exporter": "python",
   "pygments_lexer": "ipython3",
   "version": "3.6.2"
  }
 },
 "nbformat": 4,
 "nbformat_minor": 2
}
